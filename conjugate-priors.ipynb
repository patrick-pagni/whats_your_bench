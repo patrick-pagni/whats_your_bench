{
 "cells": [
  {
   "cell_type": "markdown",
   "metadata": {},
   "source": [
    "# Conjugate Priors\n",
    "\n",
    "*Notebook to implement conjugate prior evaluation on pymc3*"
   ]
  },
  {
   "cell_type": "code",
   "execution_count": 1,
   "metadata": {},
   "outputs": [],
   "source": [
    "import arviz as az\n",
    "import matplotlib.pyplot as plt\n",
    "import numpy as np\n",
    "import pymc as p\n",
    "import pytensor.tensor as pt\n",
    "\n",
    "from scipy import stats"
   ]
  },
  {
   "cell_type": "code",
   "execution_count": 2,
   "metadata": {},
   "outputs": [],
   "source": [
    "RANDOM_SEED = 42\n",
    "rng = np.random.default_rng(RANDOM_SEED)\n",
    "az.style.use(\"arviz-darkgrid\")"
   ]
  },
  {
   "cell_type": "markdown",
   "metadata": {},
   "source": [
    "## Normal distribution with known variance, unknown mean\n",
    "\n",
    "$$\n",
    "\\sigma = 1\\\\\n",
    "P(x|\\Theta) \\sim \\mathcal{N}(\\mu, \\sigma^2) = \\mathcal{N}(\\mu, 1)\\\\\n",
    "P(\\theta | \\Theta) \\sim \\mathcal{N}(\\mu_0, \\sigma_0^2)\\\\\n",
    "P(\\tilde{x}|\\Theta') \\sim \\mathcal{N}(\\frac{1}{\\frac{1}{\\sigma_0^2} + \\frac{n}{\\sigma^2}}(\\frac{\\mu_0}{\\sigma_0^2}+\\frac{\\sum_{i=1}^nx_i}{\\sigma^2}), (\\frac{1}{\\sigma_0^2}+\\frac{n}{\\sigma^2})^{-1})\n",
    "$$\n",
    "\n",
    "### Implement from scratch in python"
   ]
  },
  {
   "cell_type": "code",
   "execution_count": 21,
   "metadata": {},
   "outputs": [
    {
     "name": "stdout",
     "output_type": "stream",
     "text": [
      "0.03442462163753737\n",
      "0.8446497033034687\n",
      "\n",
      "0.03442462163753738\n",
      "0.00986177022165975\n"
     ]
    }
   ],
   "source": [
    "n = 100\n",
    "sigma = 1\n",
    "unknown_mu = 0\n",
    "\n",
    "Y = rng.normal(size = n, loc = unknown_mu, scale = sigma)\n",
    "sample_mean = Y.mean()\n",
    "sample_std = Y.std()\n",
    "\n",
    "true_mean = np.power((1/np.power(sample_std, 2))+(n/np.power(sigma,2)), -1)*((sample_mean/np.power(sample_std, 2)) + (Y.sum()/np.power(sigma, 2)))\n",
    "true_std = np.power((1 / np.power(sample_std, 2)) + (n/np.power(sigma, 2)), -1)\n",
    "\n",
    "print(sample_mean)\n",
    "print(sample_std)\n",
    "print()\n",
    "\n",
    "print(true_mean)\n",
    "print(true_std)"
   ]
  },
  {
   "cell_type": "markdown",
   "metadata": {},
   "source": [
    "### PyMC3 Implementation"
   ]
  },
  {
   "cell_type": "code",
   "execution_count": 11,
   "metadata": {},
   "outputs": [
    {
     "name": "stderr",
     "output_type": "stream",
     "text": [
      "Sampling: [mu, obs]\n",
      "Auto-assigning NUTS sampler...\n",
      "Initializing NUTS using jitter+adapt_diag...\n",
      "Multiprocess sampling (4 chains in 4 jobs)\n",
      "NUTS: [mu]\n"
     ]
    },
    {
     "data": {
      "application/vnd.jupyter.widget-view+json": {
       "model_id": "9bee5bc185b944e58ef60f6a6ea8d18d",
       "version_major": 2,
       "version_minor": 0
      },
      "text/plain": [
       "Output()"
      ]
     },
     "metadata": {},
     "output_type": "display_data"
    },
    {
     "data": {
      "text/html": [
       "<pre style=\"white-space:pre;overflow-x:auto;line-height:normal;font-family:Menlo,'DejaVu Sans Mono',consolas,'Courier New',monospace\"></pre>\n"
      ],
      "text/plain": []
     },
     "metadata": {},
     "output_type": "display_data"
    },
    {
     "data": {
      "text/html": [
       "<pre style=\"white-space:pre;overflow-x:auto;line-height:normal;font-family:Menlo,'DejaVu Sans Mono',consolas,'Courier New',monospace\">\n",
       "</pre>\n"
      ],
      "text/plain": [
       "\n"
      ]
     },
     "metadata": {},
     "output_type": "display_data"
    },
    {
     "name": "stderr",
     "output_type": "stream",
     "text": [
      "Sampling 4 chains for 1_000 tune and 1_000 draw iterations (4_000 + 4_000 draws total) took 14 seconds.\n",
      "Sampling: [obs]\n"
     ]
    },
    {
     "data": {
      "application/vnd.jupyter.widget-view+json": {
       "model_id": "2fbfe6a0993a47fa99cab3e34bf6ed6e",
       "version_major": 2,
       "version_minor": 0
      },
      "text/plain": [
       "Output()"
      ]
     },
     "metadata": {},
     "output_type": "display_data"
    },
    {
     "data": {
      "text/html": [
       "<pre style=\"white-space:pre;overflow-x:auto;line-height:normal;font-family:Menlo,'DejaVu Sans Mono',consolas,'Courier New',monospace\"></pre>\n"
      ],
      "text/plain": []
     },
     "metadata": {},
     "output_type": "display_data"
    },
    {
     "data": {
      "text/html": [
       "<pre style=\"white-space:pre;overflow-x:auto;line-height:normal;font-family:Menlo,'DejaVu Sans Mono',consolas,'Courier New',monospace\">\n",
       "</pre>\n"
      ],
      "text/plain": [
       "\n"
      ]
     },
     "metadata": {},
     "output_type": "display_data"
    }
   ],
   "source": [
    "with pm.Model() as m:\n",
    "    mu = pm.Normal(\"mu\", mu = unknown_mu, sigma = 30)\n",
    "    obs = pm.Normal(\"obs\", mu = mu, sigma = 30, observed = Y)\n",
    "\n",
    "    idata = pm.sample_prior_predictive()\n",
    "    idata.extend(pm.sample())\n",
    "    pm.sample_posterior_predictive(idata, extend_inferencedata=True)"
   ]
  },
  {
   "cell_type": "code",
   "execution_count": 13,
   "metadata": {},
   "outputs": [
    {
     "name": "stdout",
     "output_type": "stream",
     "text": [
      "-1.972484208021451 -1.7447030276065372\n"
     ]
    }
   ],
   "source": [
    "print(true_mean, idata.posterior.mean().mu.values)"
   ]
  },
  {
   "cell_type": "markdown",
   "metadata": {},
   "source": [
    "## Normal with known mean $\\mu$"
   ]
  },
  {
   "cell_type": "markdown",
   "metadata": {},
   "source": [
    "$$\n",
    "\\mu = 0\\\\\n",
    "P(x_i \\| \\theta) = \\mathcal{N}(\\mu, \\sigma^2)\\\\\n",
    "P(\\theta \\| \\Theta) = \\mathcal{N}(\\nu, \\sigma_0^2)\\\\\n",
    "P(\\theta \\| \\Theta') = \\mathcal{N}(\\nu + \\eta, \\frac{\\nu \\sigma_0^2 + \\sum_{i=1}^n ( x_i - \\mu)^2}{\\nu + \\eta})\\\\\n",
    "P(\\tilde{x} \\| \\Theta') = \\mathcal{t}_{\\nu'}(\\tilde{x} \\| \\mu, \\sigma_{0}^{2'})\n",
    "$$"
   ]
  },
  {
   "cell_type": "markdown",
   "metadata": {},
   "source": [
    "### Implemented from scratch"
   ]
  },
  {
   "cell_type": "code",
   "execution_count": 50,
   "metadata": {},
   "outputs": [
    {
     "data": {
      "image/png": "[encoded data removed]",
      "text/plain": [
       "<Figure size 720x480 with 1 Axes>"
      ]
     },
     "metadata": {},
     "output_type": "display_data"
    }
   ],
   "source": [
    "n = 1000\n",
    "mu = 0\n",
    "prior_alpha = 1\n",
    "prior_beta = 1\n",
    "\n",
    "X = stats.norm.rvs(loc = mu, scale = 0.9, size = n)\n",
    "\n",
    "posterior_alpha = prior_alpha + n/2\n",
    "posterior_beta = prior_beta + 0.5 * np.sum(np.power(X - mu, 2))\n",
    "\n",
    "predictive = stats.t.rvs(posterior_alpha, loc = mu, scale = np.sqrt(posterior_beta/posterior_alpha), size = 1000)\n",
    "\n",
    "plt.hist(predictive, bins = 100, density = True);\n",
    "plt.hist(X, bins = 100, density = True, alpha = 0.5);"
   ]
  },
  {
   "cell_type": "markdown",
   "metadata": {},
   "source": [
    "### PyMC3"
   ]
  },
  {
   "cell_type": "markdown",
   "metadata": {},
   "source": []
  }
 ],
 "metadata": {
  "kernelspec": {
   "display_name": "Python 3",
   "language": "python",
   "name": "python3"
  },
  "language_info": {
   "codemirror_mode": {
    "name": "ipython",
    "version": 3
   },
   "file_extension": ".py",
   "mimetype": "text/x-python",
   "name": "python",
   "nbconvert_exporter": "python",
   "pygments_lexer": "ipython3",
   "version": "3.12.3"
  }
 },
 "nbformat": 4,
 "nbformat_minor": 2
}
